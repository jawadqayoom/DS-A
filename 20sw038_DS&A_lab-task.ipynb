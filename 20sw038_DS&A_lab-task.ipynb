{
  "cells": [
    {
      "cell_type": "markdown",
      "metadata": {
        "id": "view-in-github",
        "colab_type": "text"
      },
      "source": [
        "<a href=\"https://colab.research.google.com/github/jawadqayoom/DS-A/blob/main/20sw038_DS%26A_lab-task.ipynb\" target=\"_parent\"><img src=\"https://colab.research.google.com/assets/colab-badge.svg\" alt=\"Open In Colab\"/></a>"
      ]
    },
    {
      "cell_type": "markdown",
      "source": [
        "TASK 1\n"
      ],
      "metadata": {
        "id": "M0SQeGMr3fVD"
      }
    },
    {
      "cell_type": "code",
      "source": [
        "num = int(input(\"enter your prize number\"))\n",
        "if num>=1 and num<=50 :\n",
        "    print('you have won wooden rabbit')\n",
        "\n",
        "elif num<=150 :\n",
        "    print('you have won no prize')\n",
        "\n",
        "elif num<=180 :\n",
        "    print('you have won wafer-thin mint')\n",
        "\n",
        "elif num<=200 :\n",
        "    print('you have won penguin')"
      ],
      "metadata": {
        "id": "3z0ClWiN20LD",
        "outputId": "754f7259-6e38-422c-9188-f78be7d8978a",
        "colab": {
          "base_uri": "https://localhost:8080/"
        }
      },
      "execution_count": null,
      "outputs": [
        {
          "output_type": "stream",
          "name": "stdout",
          "text": [
            "enter your prize number174\n",
            "you have won wafer-thin mint\n"
          ]
        }
      ]
    },
    {
      "cell_type": "code",
      "source": [],
      "metadata": {
        "id": "Lru2_x2F3g04"
      },
      "execution_count": null,
      "outputs": []
    },
    {
      "cell_type": "markdown",
      "source": [
        "TASK 2"
      ],
      "metadata": {
        "id": "_L_pPvic317Q"
      }
    },
    {
      "cell_type": "code",
      "source": [
        "answer = 20\n",
        "guess = int(input(\"Enter the number\"))\n",
        "if guess < answer :\n",
        " result = \"Oops! Your guess was too low.\"\n",
        "elif guess > answer :\n",
        " result = \"Oops! Your guess was too high.\"\n",
        "elif guess == answer :\n",
        " result = \"Nice! Your guess matched the answer!\"\n",
        "\n",
        "print(result)\n"
      ],
      "metadata": {
        "id": "zF7Y1OBD363D",
        "outputId": "a892778c-effe-41f4-da9b-0c0530ea1571",
        "colab": {
          "base_uri": "https://localhost:8080/"
        }
      },
      "execution_count": null,
      "outputs": [
        {
          "output_type": "stream",
          "name": "stdout",
          "text": [
            "Enter the number40\n",
            "Oops! Your guess was too high.\n"
          ]
        }
      ]
    },
    {
      "cell_type": "markdown",
      "source": [
        "TASK 3"
      ],
      "metadata": {
        "id": "pwmR8yS84Sbt"
      }
    },
    {
      "cell_type": "code",
      "source": [
        "states = input('Enter your state')\n",
        "amount = int(input('enter purchased amount'))\n",
        "if states == 'CA' :\n",
        "    print(amount * .075)\n",
        "\n",
        "if states == 'MN' :\n",
        "    print(amount * .095)\n",
        "\n",
        "if states == 'NY' :\n",
        "    print(amount * .089)"
      ],
      "metadata": {
        "id": "r6wIBQDP4UfJ",
        "outputId": "b8c3b702-f8f5-41f4-e619-1fa1ef03bb2c",
        "colab": {
          "base_uri": "https://localhost:8080/"
        }
      },
      "execution_count": null,
      "outputs": [
        {
          "output_type": "stream",
          "name": "stdout",
          "text": [
            "Enter your stateCA\n",
            "enter purchased amount2300\n",
            "172.5\n"
          ]
        }
      ]
    },
    {
      "cell_type": "markdown",
      "source": [
        "TASK 4"
      ],
      "metadata": {
        "id": "T2hH0GEX4i5G"
      }
    },
    {
      "cell_type": "code",
      "source": [
        "sentence = [\"the\", \"quick\", \"brown\", \"fox\", \"jumped\", \"over\", \"the\",\n",
        "\"lazy\", \"dog\"]\n",
        "\n",
        "for i in sentence:\n",
        "    print(i)"
      ],
      "metadata": {
        "id": "UDfOtUJo4k3m",
        "outputId": "10f6667e-228d-44ad-9465-39d12640b08a",
        "colab": {
          "base_uri": "https://localhost:8080/"
        }
      },
      "execution_count": null,
      "outputs": [
        {
          "output_type": "stream",
          "name": "stdout",
          "text": [
            "the\n",
            "quick\n",
            "brown\n",
            "fox\n",
            "jumped\n",
            "over\n",
            "the\n",
            "lazy\n",
            "dog\n"
          ]
        }
      ]
    },
    {
      "cell_type": "markdown",
      "source": [
        "TASK 5"
      ],
      "metadata": {
        "id": "AzIdrSD04ohF"
      }
    },
    {
      "cell_type": "code",
      "source": [
        "\n",
        "for i in range(5,31,5) :\n",
        "    print(i)\n"
      ],
      "metadata": {
        "id": "MHKKye6e4ptA",
        "outputId": "e6e593f0-f1d5-4b11-f8dd-eb17b5b74182",
        "colab": {
          "base_uri": "https://localhost:8080/"
        }
      },
      "execution_count": null,
      "outputs": [
        {
          "output_type": "stream",
          "name": "stdout",
          "text": [
            "5\n",
            "10\n",
            "15\n",
            "20\n",
            "25\n",
            "30\n"
          ]
        }
      ]
    },
    {
      "cell_type": "markdown",
      "source": [
        "TASK 6"
      ],
      "metadata": {
        "id": "j1ri3guT4tTu"
      }
    },
    {
      "cell_type": "code",
      "source": [
        "names = [\"Rick Sanchez\", \"Morty Smith\", \"Summer Smith\", \"Jerry Smith\", \"Beth Smith\"]\n",
        "first_names = [i.split()[0] for i in names]\n",
        "print(first_names)"
      ],
      "metadata": {
        "id": "GLQnxnrW4vM5",
        "outputId": "cdbdf358-ac10-4744-8055-639e1f5a158c",
        "colab": {
          "base_uri": "https://localhost:8080/"
        }
      },
      "execution_count": null,
      "outputs": [
        {
          "output_type": "stream",
          "name": "stdout",
          "text": [
            "['Rick', 'Morty', 'Summer', 'Jerry', 'Beth']\n"
          ]
        }
      ]
    },
    {
      "cell_type": "markdown",
      "source": [
        "TASK 7"
      ],
      "metadata": {
        "id": "KyxdrBRC4zgq"
      }
    },
    {
      "cell_type": "code",
      "source": [
        "multiples_3 = [i for i in range(3,3*21,3)]\n",
        "print(multiples_3)"
      ],
      "metadata": {
        "id": "JZnb75L-40gH",
        "outputId": "48996f42-1368-40b2-f9ca-f43f602806ad",
        "colab": {
          "base_uri": "https://localhost:8080/"
        }
      },
      "execution_count": null,
      "outputs": [
        {
          "output_type": "stream",
          "name": "stdout",
          "text": [
            "[3, 6, 9, 12, 15, 18, 21, 24, 27, 30, 33, 36, 39, 42, 45, 48, 51, 54, 57, 60]\n"
          ]
        }
      ]
    },
    {
      "cell_type": "markdown",
      "source": [
        "TASK 8"
      ],
      "metadata": {
        "id": "zO3b5LzN44LV"
      }
    },
    {
      "cell_type": "code",
      "source": [
        "scores = {\n",
        " \"Rick Sanchez\": 70,\n",
        " \"Morty Smith\": 35,\n",
        " \"Summer Smith\": 82,\n",
        " \"Jerry Smith\": 23,\n",
        " \"Beth Smith\": 98\n",
        " }\n",
        "passed = [i for i in scores.values() if i >= 65 ]\n",
        "print(passed)\n"
      ],
      "metadata": {
        "id": "UMTJ5jE245v8",
        "outputId": "e76ee661-5e23-4e26-d6a7-c27551164ae4",
        "colab": {
          "base_uri": "https://localhost:8080/"
        }
      },
      "execution_count": null,
      "outputs": [
        {
          "output_type": "stream",
          "name": "stdout",
          "text": [
            "[70, 82, 98]\n"
          ]
        }
      ]
    },
    {
      "cell_type": "markdown",
      "source": [
        "TASK 9"
      ],
      "metadata": {
        "id": "z_5GJNet49bw"
      }
    },
    {
      "cell_type": "code",
      "source": [
        "cast_names = [\"Barney\", \"Robin\", \"Ted\", \"Lily\", \"Marshall\"]\n",
        "cast_heights = [72, 68, 72, 66, 76]\n",
        "cast = {i:j for i,j in zip(cast_names,cast_heights)}\n",
        "print(cast)\n"
      ],
      "metadata": {
        "id": "BqafA7874-iu",
        "outputId": "41330274-6e3b-432d-c5b4-e232a4bf4d2a",
        "colab": {
          "base_uri": "https://localhost:8080/"
        }
      },
      "execution_count": null,
      "outputs": [
        {
          "output_type": "stream",
          "name": "stdout",
          "text": [
            "{'Barney': 72, 'Robin': 68, 'Ted': 72, 'Lily': 66, 'Marshall': 76}\n"
          ]
        }
      ]
    },
    {
      "cell_type": "markdown",
      "source": [
        "TASK 10"
      ],
      "metadata": {
        "id": "DCk4a2Z65CGA"
      }
    },
    {
      "cell_type": "code",
      "source": [
        "cast = [\"Barney Stinson\", \"Robin Scherbatsky\", \"Ted Mosby\",\n",
        "\"Lily Aldrin\", \"Marshall Eriksen\"]\n",
        "heights = [72, 68, 72, 66, 76]\n",
        "for i,j in enumerate(cast):\n",
        "    cast[i]=j + str(heights[i])\n",
        "\n",
        "print(cast)"
      ],
      "metadata": {
        "id": "5zDssfEj5DSb",
        "outputId": "ac314b3d-c087-4b24-dfe3-b24176438416",
        "colab": {
          "base_uri": "https://localhost:8080/"
        }
      },
      "execution_count": null,
      "outputs": [
        {
          "output_type": "stream",
          "name": "stdout",
          "text": [
            "['Barney Stinson72', 'Robin Scherbatsky68', 'Ted Mosby72', 'Lily Aldrin66', 'Marshall Eriksen76']\n"
          ]
        }
      ]
    }
  ],
  "metadata": {
    "colab": {
      "provenance": [],
      "include_colab_link": true
    },
    "kernelspec": {
      "display_name": "Python 3",
      "name": "python3"
    }
  },
  "nbformat": 4,
  "nbformat_minor": 0
}